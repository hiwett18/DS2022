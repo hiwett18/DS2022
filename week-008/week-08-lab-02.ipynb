{
 "cells": [
  {
   "cell_type": "markdown",
   "metadata": {},
   "source": [
    "<div style=\"background: #000;\n",
    "            color: #FFF;\n",
    "            margin: 0px;\n",
    "                padding: 10px 0px 20px 0px;\n",
    "            text-align: center; \n",
    "                \">\n",
    "    <h1>Week 8 - Lab</h1>\n",
    "</div>\n"
   ]
  },
  {
   "cell_type": "markdown",
   "metadata": {},
   "source": [
    "# Exercise 1\n",
    "\n",
    "Create a class called `Person`.\n",
    "Make an attribute for the class called `x` and set it equal to 5.\n",
    "\n",
    "Create an instance of the `Person` class.\n",
    "Print out the `x` attribute of the instance."
   ]
  },
  {
   "cell_type": "code",
   "execution_count": 20,
   "metadata": {},
   "outputs": [
    {
     "data": {
      "text/plain": [
       "5"
      ]
     },
     "execution_count": 20,
     "metadata": {},
     "output_type": "execute_result"
    }
   ],
   "source": [
    "class Person:\n",
    "    def __init__(self):\n",
    "        self.x = 5\n",
    "\n",
    "person1 = Person()\n",
    "person1.x"
   ]
  },
  {
   "cell_type": "markdown",
   "metadata": {},
   "source": [
    "# Excerise 2\n",
    "\n",
    "Create a class called `Student` with  the following attributes \n",
    "<br>`first_name`\n",
    "<br>`last_name`\n",
    "<br>`age`\n",
    "<br>`hw_grades` \n",
    "# `THINK ABOUT WHAT DATA STRUCTURE WE SHOULD BE USING FOR HW GRADES`\n",
    "# `THINK ABOUT THE DATA STRUCTURES WE KNOW. WHAT SEEMS APPROPRIATE? LISTS, DICTS, TUPLES OR SETS?`\n",
    "\n",
    "Create methods that:\n",
    "<br>Print the full name of the student\n",
    "<br>Adds a grade to the attribute `hw_grades` \n",
    "<br>Calculates the Student's average hw grade\n",
    "\n",
    "Create an instance of the class and ensure that all the methods works."
   ]
  },
  {
   "cell_type": "code",
   "execution_count": 31,
   "metadata": {},
   "outputs": [
    {
     "name": "stdout",
     "output_type": "stream",
     "text": [
      "Jane Doe\n",
      "[95]\n",
      "[95, 100]\n",
      "[95, 100, 85]\n",
      "All homework grades = [95, 100, 85]\n",
      "Average =  93.33\n"
     ]
    }
   ],
   "source": [
    "class Student:\n",
    "    def __init__(self, first_name, last_name, age, hw_grades):\n",
    "        self.first_name = first_name\n",
    "        self.last_name = last_name\n",
    "        self.age = age\n",
    "        self.hw_grades = []\n",
    "    \n",
    "    def full_name(self):\n",
    "        print(self.first_name, self.last_name)\n",
    "    \n",
    "    def grades(self, y):\n",
    "        self.hw_grades.append(y)\n",
    "        return self.hw_grades\n",
    "    \n",
    "    def average(self):\n",
    "        sum = 0 \n",
    "        for i in self.hw_grades:\n",
    "            sum += i\n",
    "        a = sum / len(self.hw_grades)\n",
    "        avg = round(a, 2)\n",
    "        return avg\n",
    "\n",
    "\n",
    "\n",
    "s1 = Student(\"Jane\", \"Doe\", 21, 79)\n",
    "s1.full_name()\n",
    "print(s1.grades(95))\n",
    "print(s1.grades(100))\n",
    "print(s1.grades(85))\n",
    "s1.hw_grades\n",
    "s1.average()\n",
    "print (f\"All homework grades = {s1.hw_grades}\")\n",
    "print(\"Average = \", s1.average())"
   ]
  },
  {
   "cell_type": "markdown",
   "metadata": {},
   "source": [
    "# Exercise 3:\n",
    "Create a class called `Square` that overloads the addition operator by adding the area of two squares. You will need at least an attribute for length, a method for calculating area and the overloaded + operator method.\n",
    "\n",
    "e.g. Square(3) + Square(4) == 25"
   ]
  },
  {
   "cell_type": "code",
   "execution_count": 69,
   "metadata": {},
   "outputs": [
    {
     "name": "stdout",
     "output_type": "stream",
     "text": [
      "9\n",
      "16\n",
      "25\n"
     ]
    }
   ],
   "source": [
    "class Square:\n",
    "    def __init__(self, length):\n",
    "        self.length = length\n",
    "        self.area = self.length**2\n",
    "\n",
    "    def square_area(self):\n",
    "        return self.area\n",
    "\n",
    "    def __add__(self, other):\n",
    "        x = self.area + other.area \n",
    "        return x\n",
    "    \n",
    "\n",
    "\n",
    "\n",
    "a1 = Square(3)\n",
    "a2 = Square(4)\n",
    "print(a1.square_area())\n",
    "print(a2.square_area())\n",
    "print(a1 + a2)\n"
   ]
  },
  {
   "cell_type": "markdown",
   "metadata": {},
   "source": [
    "\n",
    "# Exercise 4:\n",
    "Create a class called `Store` with an attribute called `inventory` that stores key value pairs which represent a product and its count.\n",
    "<br> `{\"oranges\":100,'apples':20}`\n",
    "\n",
    "Create a `buy` method that decrements from a key's value whenever an item is \"bought\"\n",
    "\n",
    "Create a method that lists the products for sale.\n",
    "<br>Create a method that allows you to add more products to the store's inventory.\n",
    "\n",
    "\n",
    "When you're finished, create an instance of Store and demonstrate that your methods/code work. Bonus points for addtional methods/functionality."
   ]
  },
  {
   "cell_type": "code",
   "execution_count": 16,
   "metadata": {},
   "outputs": [
    {
     "name": "stdout",
     "output_type": "stream",
     "text": [
      "Added to inventory: {'apple': 20}\n",
      "Added to inventory: {'apple': 20, 'orange': 25}\n",
      " 3 oranges were bought. Current inventory is {'apple': 20, 'orange': 22}\n",
      " 5 apples were bought. Current inventory is {'apple': 15, 'orange': 22}\n",
      "Added to inventory: {'apple': 15, 'orange': 22, 'pineapple': 40}\n",
      "Added to inventory: {'apple': 15, 'orange': 22, 'pineapple': 40, 'banana': 35}\n",
      "Available products for sale: {'apple': 15, 'orange': 22, 'pineapple': 40, 'banana': 35}\n"
     ]
    }
   ],
   "source": [
    "class Store: \n",
    "    def __init__(self, inventory):\n",
    "        self.inventory = {}\n",
    "\n",
    "    def add(self, items, amount):\n",
    "        self.inventory[items] = amount\n",
    "        return f\"Added to inventory: {self.inventory}\"\n",
    "    \n",
    "    def buy(self, items, purchased):\n",
    "        self.inventory[items] -= purchased\n",
    "        return f\" {purchased} {items}s were bought. Current inventory is {self.inventory}\"\n",
    "    \n",
    "    def products_for_sale(self):\n",
    "        return self.inventory\n",
    "\n",
    "a1 = Store(0)\n",
    "\n",
    "print(a1.add(\"apple\", 20))\n",
    "print(a1.add(\"orange\", 25))\n",
    "\n",
    "\n",
    "\n",
    "\n",
    "print(a1.buy(\"orange\", 3))\n",
    "print(a1.buy(\"apple\", 5))\n",
    "print(a1.add(\"pineapple\", 40))\n",
    "print(a1.add(\"banana\", 35))\n",
    "print(\"Available products for sale:\", a1.products_for_sale())\n"
   ]
  }
 ],
 "metadata": {
  "interpreter": {
   "hash": "aee8b7b246df8f9039afb4144a1f6fd8d2ca17a180786b69acc140d282b71a49"
  },
  "kernelspec": {
   "display_name": "Python 3.10.0 64-bit",
   "name": "python3"
  },
  "language_info": {
   "codemirror_mode": {
    "name": "ipython",
    "version": 3
   },
   "file_extension": ".py",
   "mimetype": "text/x-python",
   "name": "python",
   "nbconvert_exporter": "python",
   "pygments_lexer": "ipython3",
   "version": "3.10.0"
  }
 },
 "nbformat": 4,
 "nbformat_minor": 4
}
