{
  "cells": [
    {
      "cell_type": "markdown",
      "metadata": {
        "id": "zndGg0rNFH7b"
      },
      "source": [
        "<div style=\"background: #000;\n",
        "            color: #FFF;\n",
        "            margin: 0px;\n",
        "                padding: 10px 0px 20px 0px;\n",
        "            text-align: center; \n",
        "                \">\n",
        "    <h1>Week 8 - Lab 1</h1>\n",
        "</div>"
      ]
    },
    {
      "cell_type": "markdown",
      "metadata": {
        "id": "_no9KBSAFH7e"
      },
      "source": [
        "# Question 1\n",
        "\n",
        "What is the use of read() function in Python? Why it is important?"
      ]
    },
    {
      "cell_type": "markdown",
      "metadata": {},
      "source": [
        "read() function is a method that reads all the data in the file. It is important to read and also pass in the number of characters we want to read. "
      ]
    },
    {
      "cell_type": "markdown",
      "metadata": {
        "id": "KV1pFuS8FH7e"
      },
      "source": [
        "# Exercise 1\n",
        "\n",
        "Create a txt file (file extention .txt) and title it reading_python.ipynb. In the txt file, write: \"It's time to read in python!\".\n",
        "\n",
        "Open the txt file in Visual Studio Code using read() .\n",
        "\n",
        "Insert that screenshot below showing you were successful:"
      ]
    },
    {
      "cell_type": "code",
      "execution_count": 3,
      "metadata": {},
      "outputs": [
        {
          "name": "stdout",
          "output_type": "stream",
          "text": [
            "It's time to read in python!\n"
          ]
        }
      ],
      "source": [
        "\n",
        "\n",
        "F1 = open(\"reading_python.txt\", \"r\")\n",
        "rd1 = F1.read()\n",
        "print(rd1)"
      ]
    },
    {
      "cell_type": "markdown",
      "metadata": {
        "id": "fzpO6jPxFH7f"
      },
      "source": [
        "# Exercise 2\n",
        "\n",
        "From the helloworld.html file from the lesson, use Python to update the webpage to display an image of your choice. Upload your code and a screenshot of your updated webpage.\n",
        "\n"
      ]
    },
    {
      "cell_type": "markdown",
      "metadata": {},
      "source": [
        "import webbrowser\n",
        "\n",
        "var1 = open(\"file_hello_world.html\", \"w\")\n",
        "\n",
        "file_content = '''\n",
        "\n",
        "<html>\n",
        "<head></head>\n",
        "<body>\n",
        "<p> \n",
        "<h1>\n",
        "Hello World!\n",
        "</h1>\n",
        " </p>\n",
        "<style>\n",
        "img {\n",
        "  width: 50%;\n",
        "  height: auto;\n",
        "}\n",
        "</style>\n",
        "<img src=\"https://img5.goodfon.com/original/2000x1400/9/4f/ozero-iaponiia-listia-osen-gora-fudzi.jpg\" alt=\"Italian Trulli\">\n",
        "</body>\n",
        "</html>"
      ]
    },
    {
      "cell_type": "markdown",
      "metadata": {
        "id": "QtFmSH8zIP4z"
      },
      "source": [
        "### **Bonus**\n",
        "\n",
        "---\n",
        "\n",
        "\n",
        "when using the open() function/parameters what are the 6 available file mode's that can be used? please give a  brief description of what these modes do.\n",
        "\n",
        "\n"
      ]
    },
    {
      "cell_type": "markdown",
      "metadata": {},
      "source": [
        "The 6 modes used when openning a function are as follows: \n",
        "    \"r\" = Read - is used to open a file for reading. It will return error if the function does not exist. \n",
        "    \"a\" = Append - is used to open a file for appending. It will create a file if file does not exist.\n",
        "    \"w\" = Write - is used to open a file for writing. It will create a file if file does not exist.\n",
        "    \"x\" = Create - is used to create the specified file. It will return error if the file exists. \n",
        "    \"t\" = Text - is a default value for text. \n",
        "    \"b\" = Binary - is used for images.  \n"
      ]
    }
  ],
  "metadata": {
    "colab": {
      "collapsed_sections": [],
      "name": "week-08-class-01-lab.ipynb",
      "provenance": []
    },
    "interpreter": {
      "hash": "31f2aee4e71d21fbe5cf8b01ff0e069b9275f58929596ceb00d14d90e3e16cd6"
    },
    "kernelspec": {
      "display_name": "Python 3.8.9 64-bit",
      "name": "python3"
    },
    "language_info": {
      "codemirror_mode": {
        "name": "ipython",
        "version": 3
      },
      "file_extension": ".py",
      "mimetype": "text/x-python",
      "name": "python",
      "nbconvert_exporter": "python",
      "pygments_lexer": "ipython3",
      "version": "3.8.9"
    }
  },
  "nbformat": 4,
  "nbformat_minor": 0
}
