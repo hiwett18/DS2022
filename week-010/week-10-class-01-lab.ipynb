{
  "cells": [
    {
      "cell_type": "markdown",
      "metadata": {
        "id": "Y_bCE67biNDy"
      },
      "source": [
        "# Lab Exercises"
      ]
    },
    {
      "cell_type": "markdown",
      "metadata": {
        "id": "sS3PiLbbiXYJ"
      },
      "source": [
        "# Exercise 1"
      ]
    },
    {
      "cell_type": "markdown",
      "metadata": {
        "id": "CEXxUZntiZyA"
      },
      "source": [
        "In the 'sample_training' database, look through the 'companies' collection and show the name, month, day, and year of all the companies that were founded in 2005.  Sort by name, ascending. Paste the filter, project, and sort queries."
      ]
    },
    {
      "cell_type": "markdown",
      "metadata": {},
      "source": [
        "filter: {\"founded_year\": 2005}\n",
        "project: {\"name\":1, \"founded_month\":1, \"founded_day\":1, \"founded_year\":1, \"_id\":0}\n",
        "sort: {\"name\": 1}"
      ]
    },
    {
      "cell_type": "markdown",
      "metadata": {
        "id": "4-rdl2ywibz8"
      },
      "source": [
        "# Exercise 2"
      ]
    },
    {
      "cell_type": "markdown",
      "metadata": {
        "id": "dFGsvzSOiekv"
      },
      "source": [
        "I used to go to a restaurant in Brooklyn that had Chinese cuisine. It has the word \"Noodles\" in its name and a number. What's the number? "
      ]
    },
    {
      "cell_type": "markdown",
      "metadata": {},
      "source": [
        "{'borough':\"Brooklyn\",'cuisine':\"Chinese\", 'name':{\"$regex\":\"Noodles\"}}\n",
        "\n",
        "_id:5eb3d668b31de5d588f448d9\n",
        "address:Object\n",
        "borough:\"Brooklyn\"\n",
        "cuisine:\"Chinese\"\n",
        "grades:Array\n",
        "name:\"86 Noodles\"\n",
        "restaurant_id:\"41309521\""
      ]
    },
    {
      "cell_type": "markdown",
      "metadata": {
        "id": "a8Qs_N8sihXW"
      },
      "source": [
        "# Exercise 3"
      ]
    },
    {
      "cell_type": "markdown",
      "metadata": {
        "id": "BJJ7TLNDijHJ"
      },
      "source": [
        "I want an airbnb that has 6 bedrooms, 6 beds, and \"no smoking\" in its house rules. What's the listing_url of that airbnb?"
      ]
    },
    {
      "cell_type": "markdown",
      "metadata": {},
      "source": [
        "\n",
        "filter: {\"house_rules\": {\"$regex\": \"no smoking\"}, \"bedrooms\": 6, \"beds\": 6}\n",
        "project: {\"listing_url\": 1}\n",
        "\n",
        "listing_url:\"https://www.airbnb.com/rooms/17301277\""
      ]
    },
    {
      "cell_type": "markdown",
      "metadata": {
        "id": "fuRmJLKuinJl"
      },
      "source": [
        "# Exercise 4"
      ]
    },
    {
      "cell_type": "markdown",
      "metadata": {
        "id": "spV9ZasFirgq"
      },
      "source": [
        "In the sample_training database, look through the 'zips' collection. Which zip code has the highest population? "
      ]
    },
    {
      "cell_type": "markdown",
      "metadata": {},
      "source": [
        "sort : {\"pop\": -1}\n",
        "\n",
        "zip:\"60623\"\n"
      ]
    },
    {
      "cell_type": "markdown",
      "metadata": {
        "id": "j2dvCW7HitUj"
      },
      "source": [
        "# Exercise 5 (Challenge)"
      ]
    },
    {
      "cell_type": "markdown",
      "metadata": {
        "id": "nPhwvXMxixfr"
      },
      "source": [
        " I remember seeing a poster for a 'SpongeBob' movie that had multiple SpongeBob characters. Look through the 'movies' collection in the 'sample_mflix\" database and name all the characters in that poster. "
      ]
    },
    {
      "cell_type": "markdown",
      "metadata": {},
      "source": [
        "{'plot':{'$regex':'SpongeBob'}}\n",
        "Sandy, SpongeBob, Squidward, Mr. Krab, Patric\n",
        "\n",
        "https://m.media-amazon.com/images/M/MV5BMjYyNDczNTE0MF5BMl5BanBnXkFtZTgwNjkzNDYxMzE@._V1_SY1000_SX677_AL_.jpg"
      ]
    }
  ],
  "metadata": {
    "colab": {
      "name": "MongoDB Atlas Lab",
      "provenance": []
    },
    "kernelspec": {
      "display_name": "Python 3",
      "name": "python3"
    },
    "language_info": {
      "name": "python"
    }
  },
  "nbformat": 4,
  "nbformat_minor": 0
}
