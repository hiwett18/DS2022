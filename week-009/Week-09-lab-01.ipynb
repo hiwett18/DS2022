{
 "cells": [
  {
   "cell_type": "markdown",
   "metadata": {
    "id": "zndGg0rNFH7b"
   },
   "source": [
    "<div style=\"background: #000;\n",
    "            color: #FFF;\n",
    "            margin: 0px;\n",
    "                padding: 10px 0px 20px 0px;\n",
    "            text-align: center; \n",
    "                \">\n",
    "    <h1>Week 9 - Lab 1</h1>\n",
    "</div>"
   ]
  },
  {
   "cell_type": "markdown",
   "metadata": {},
   "source": [
    "# Exercise 1\n",
    "\n",
    "Follow the instruction given and install the Pandas Library in VS Code. After installation, input a picture to document that you have successfully installed the Pandas Library.\n",
    "\n",
    "https://pypi.org/project/pandas/\n",
    "\n",
    "In a New Terminal: Should be pypi:\n",
    "    \n",
    "    pip install pandas \n",
    "\n",
    "If you have the latest version of python:\n",
    "\n",
    "    pip3 install pandas \n",
    "\n",
    "Once you have the library create a simple dataframe of your choosing. Show your code."
   ]
  },
  {
   "cell_type": "markdown",
   "metadata": {},
   "source": [
    "Screen Shot 2021-11-08 at 8.24.43 PM"
   ]
  },
  {
   "cell_type": "code",
   "execution_count": 2,
   "metadata": {},
   "outputs": [
    {
     "data": {
      "text/html": [
       "<div>\n",
       "<style scoped>\n",
       "    .dataframe tbody tr th:only-of-type {\n",
       "        vertical-align: middle;\n",
       "    }\n",
       "\n",
       "    .dataframe tbody tr th {\n",
       "        vertical-align: top;\n",
       "    }\n",
       "\n",
       "    .dataframe thead th {\n",
       "        text-align: right;\n",
       "    }\n",
       "</style>\n",
       "<table border=\"1\" class=\"dataframe\">\n",
       "  <thead>\n",
       "    <tr style=\"text-align: right;\">\n",
       "      <th></th>\n",
       "      <th>Name</th>\n",
       "      <th>Age</th>\n",
       "    </tr>\n",
       "  </thead>\n",
       "  <tbody>\n",
       "    <tr>\n",
       "      <th>0</th>\n",
       "      <td>David</td>\n",
       "      <td>10</td>\n",
       "    </tr>\n",
       "    <tr>\n",
       "      <th>1</th>\n",
       "      <td>Solomon</td>\n",
       "      <td>5</td>\n",
       "    </tr>\n",
       "    <tr>\n",
       "      <th>2</th>\n",
       "      <td>Abraham</td>\n",
       "      <td>3</td>\n",
       "    </tr>\n",
       "  </tbody>\n",
       "</table>\n",
       "</div>"
      ],
      "text/plain": [
       "      Name  Age\n",
       "0    David   10\n",
       "1  Solomon    5\n",
       "2  Abraham    3"
      ]
     },
     "execution_count": 2,
     "metadata": {},
     "output_type": "execute_result"
    }
   ],
   "source": [
    "import pandas as pd\n",
    "\n",
    "#initialize list of lists\n",
    "data = [['David', 10], ['Solomon', 5], ['Abraham', 3]]\n",
    "\n",
    "#creating DataFrame\n",
    "df = pd.DataFrame(data, columns= ['Name', 'Age'])\n",
    "\n",
    "df"
   ]
  },
  {
   "cell_type": "markdown",
   "metadata": {},
   "source": [
    "# Exercise 2\n",
    "\n",
    "Create a data frame using pandas that uses a conditional statement other than if ascending = false."
   ]
  },
  {
   "cell_type": "code",
   "execution_count": 6,
   "metadata": {},
   "outputs": [
    {
     "name": "stdout",
     "output_type": "stream",
     "text": [
      "   whole_numbers Numbers_Below_5\n",
      "0              0            True\n",
      "1              1            True\n",
      "2              2            True\n",
      "3              4            True\n",
      "4              5            True\n",
      "5              6           False\n",
      "6              7           False\n",
      "7              8           False\n",
      "8              9           False\n",
      "9             10           False\n"
     ]
    }
   ],
   "source": [
    "import pandas as pd\n",
    "\n",
    "numbers = {'whole_numbers': [0, 1, 2, 4, 5, 6, 7, 8, 9, 10]}\n",
    "\n",
    "df = pd.DataFrame(numbers, columns=['whole_numbers'])\n",
    "\n",
    "# DataFrame.loc ccess a group of rows and columns by label(s) or a boolean array.\n",
    "\n",
    "df.loc[df['whole_numbers'] <= 5, 'Numbers_Below_5'] = True \n",
    "df.loc[df['whole_numbers'] > 5, 'Numbers_Below_5']= False \n",
    "\n",
    "print(df)\n",
    "\n"
   ]
  },
  {
   "cell_type": "markdown",
   "metadata": {},
   "source": [
    "# Exercise 3\n",
    "\n",
    "Create a Data Frame using pandas with Names and Age and change the datatype of age from int to str."
   ]
  },
  {
   "cell_type": "code",
   "execution_count": 8,
   "metadata": {},
   "outputs": [
    {
     "data": {
      "text/plain": [
       "Name    object\n",
       "Age     object\n",
       "dtype: object"
      ]
     },
     "execution_count": 8,
     "metadata": {},
     "output_type": "execute_result"
    }
   ],
   "source": [
    "import pandas as pd\n",
    "\n",
    "#initialize list of lists\n",
    "data = [['David', 10], ['Solomon', 5], ['Abraham', 3]]\n",
    "\n",
    "#creating DataFrame\n",
    "df = pd.DataFrame(data, columns= ['Name', 'Age'])\n",
    "\n",
    "df.astype(str).dtypes"
   ]
  },
  {
   "cell_type": "markdown",
   "metadata": {},
   "source": [
    "# Exercise 4\n",
    "\n",
    "Write a data frame using pandas that contains a dictionary of column1 of 5 strings of letters, a column2 of 5 integers, another column3 of 5 integers and a column4 of 5 strings of letters with lower and upper cases."
   ]
  },
  {
   "cell_type": "code",
   "execution_count": 10,
   "metadata": {},
   "outputs": [
    {
     "data": {
      "text/html": [
       "<div>\n",
       "<style scoped>\n",
       "    .dataframe tbody tr th:only-of-type {\n",
       "        vertical-align: middle;\n",
       "    }\n",
       "\n",
       "    .dataframe tbody tr th {\n",
       "        vertical-align: top;\n",
       "    }\n",
       "\n",
       "    .dataframe thead th {\n",
       "        text-align: right;\n",
       "    }\n",
       "</style>\n",
       "<table border=\"1\" class=\"dataframe\">\n",
       "  <thead>\n",
       "    <tr style=\"text-align: right;\">\n",
       "      <th></th>\n",
       "      <th>Column 1</th>\n",
       "      <th>Column 2</th>\n",
       "      <th>Column 3</th>\n",
       "      <th>Column 4</th>\n",
       "    </tr>\n",
       "  </thead>\n",
       "  <tbody>\n",
       "    <tr>\n",
       "      <th>0</th>\n",
       "      <td>a</td>\n",
       "      <td>10</td>\n",
       "      <td>15</td>\n",
       "      <td>D</td>\n",
       "    </tr>\n",
       "    <tr>\n",
       "      <th>1</th>\n",
       "      <td>b</td>\n",
       "      <td>20</td>\n",
       "      <td>25</td>\n",
       "      <td>a</td>\n",
       "    </tr>\n",
       "    <tr>\n",
       "      <th>2</th>\n",
       "      <td>c</td>\n",
       "      <td>30</td>\n",
       "      <td>35</td>\n",
       "      <td>t</td>\n",
       "    </tr>\n",
       "    <tr>\n",
       "      <th>3</th>\n",
       "      <td>d</td>\n",
       "      <td>40</td>\n",
       "      <td>45</td>\n",
       "      <td>a</td>\n",
       "    </tr>\n",
       "    <tr>\n",
       "      <th>4</th>\n",
       "      <td>e</td>\n",
       "      <td>50</td>\n",
       "      <td>55</td>\n",
       "      <td>S</td>\n",
       "    </tr>\n",
       "  </tbody>\n",
       "</table>\n",
       "</div>"
      ],
      "text/plain": [
       "  Column 1  Column 2   Column 3 Column 4 \n",
       "0        a         10        15         D\n",
       "1        b         20        25         a\n",
       "2        c         30        35         t\n",
       "3        d         40        45         a\n",
       "4        e         50        55         S"
      ]
     },
     "execution_count": 10,
     "metadata": {},
     "output_type": "execute_result"
    }
   ],
   "source": [
    "import pandas as pd\n",
    "\n",
    "d = {\"Column 1\": ['h', 'e', 'l', 'l', 'o'], \"Column 2 \": [10, 20, 30, 40, 50], \"Column 3\": [15, 25, 35, 45, 55], \"Column 4 \": ['D', 'a', 't', 'a', 'S']} \n",
    "df = pd.DataFrame(data=d)\n",
    "\n",
    "df"
   ]
  },
  {
   "cell_type": "markdown",
   "metadata": {},
   "source": [
    "# Bonus Question\n",
    "\n",
    "Write a Pandas program that contains data of a student for each column (you can create as many as you think are necessary). Make sure to display the default index and set a column as an Index in the dataframe. Output only one of the columns of your choice and change its datatype. "
   ]
  },
  {
   "cell_type": "code",
   "execution_count": 21,
   "metadata": {},
   "outputs": [
    {
     "name": "stdout",
     "output_type": "stream",
     "text": [
      "0     7\n",
      "1     9\n",
      "2     6\n",
      "3     8\n",
      "4    12\n",
      "Name: Age, dtype: int64\n",
      "8\n"
     ]
    },
    {
     "data": {
      "text/plain": [
       "Age    object\n",
       "dtype: object"
      ]
     },
     "execution_count": 21,
     "metadata": {},
     "output_type": "execute_result"
    }
   ],
   "source": [
    "d = {\"Student Name\": ['David', 'Solomon', 'Abel', 'Samson', 'Martha'], \"Age\": [7, 9, 6, 8, 12], \"Grade Level\": ['2nd', '4th', '1st', '3rd', '6th']} \n",
    "df = pd.DataFrame(data=d)\n",
    "\n",
    "print(df['Age'])\n",
    "\n",
    "print(df.iloc[3, 1])\n",
    "\n",
    "df = pd.DataFrame(d, columns= ['Age'])\n",
    "\n",
    "df.astype(str).dtypes\n",
    "\n",
    "# df"
   ]
  }
 ],
 "metadata": {
  "interpreter": {
   "hash": "aee8b7b246df8f9039afb4144a1f6fd8d2ca17a180786b69acc140d282b71a49"
  },
  "kernelspec": {
   "display_name": "Python 3.10.0 64-bit",
   "language": "python",
   "name": "python3"
  },
  "language_info": {
   "codemirror_mode": {
    "name": "ipython",
    "version": 3
   },
   "file_extension": ".py",
   "mimetype": "text/x-python",
   "name": "python",
   "nbconvert_exporter": "python",
   "pygments_lexer": "ipython3",
   "version": "3.10.0"
  },
  "orig_nbformat": 4
 },
 "nbformat": 4,
 "nbformat_minor": 2
}
