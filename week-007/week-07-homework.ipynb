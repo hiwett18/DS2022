{
 "cells": [
  {
   "cell_type": "markdown",
   "metadata": {},
   "source": [
    "<div style=\"background: #000;\n",
    "            color: #FFF;\n",
    "            margin: 0px;\n",
    "                padding: 10px 0px 20px 0px;\n",
    "            text-align: center; \n",
    "                \">\n",
    "    <h1>Week 7 - Homework</h1>\n",
    "</div>"
   ]
  },
  {
   "cell_type": "markdown",
   "metadata": {},
   "source": [
    "# Exercise 1\n",
    "\n",
    "Submit below a screenshot of your PyPi account as well as a copy of your username:"
   ]
  },
  {
   "cell_type": "markdown",
   "metadata": {},
   "source": [
    "\n",
    "\n",
    "\n",
    "\n"
   ]
  },
  {
   "cell_type": "markdown",
   "metadata": {},
   "source": [
    "import webbrowser\n",
    "\n",
    "var1 = open(\"image.html\", \"w\")\n",
    "\n",
    "file_content1 = '''\n",
    "\n",
    "<html>\n",
    "<head></head>\n",
    "<body>\n",
    "<p> \n",
    "\n",
    " </p>\n",
    "<style>\n",
    "img {\n",
    "  width: 50%;\n",
    "  height: auto;\n",
    "}\n",
    "</style>\n",
    "<img src=\"/Users/hiwot-w/Desktop/Data_Science_Course/hiw-DS2022/DS2022-1/week-007/Screen Shot 2021-11-01 at 10.59.40 AM.png\" alt=\"Italian Trulli\">\n",
    "</body>\n",
    "</html>\n",
    "\n",
    "'''\n"
   ]
  },
  {
   "cell_type": "markdown",
   "metadata": {},
   "source": [
    "# Exercise 2\n",
    "\n",
    "Please review the below link and provide a one paragraph (5 sentences) summary of the content (how do you install packages in Python? what is the purpose? etc)\n",
    "\n",
    "Python Packaging User Guide\n",
    "https://packaging.python.org/tutorials/installing-packages/\n"
   ]
  },
  {
   "cell_type": "markdown",
   "metadata": {},
   "source": [
    "In order to install packages in python, we have to make sure python and PIP is installed in our local machine. In order to find out if python and PIP are installed, we run the following command in our terminal. First run python3 –version then run python3 -m pip –version. If both are installed we get the version output, if not we have to install them. \n",
    "Package is a collection of modules. A package is useful to organize your codes by creating one or more modules. You don't want to put all your functions in one module because it can get long and complicated. Instead, we create different modules and import classes or functions of one or more modules to another module within the package. This allows us to create multiple module contained in a package. \n"
   ]
  },
  {
   "cell_type": "markdown",
   "metadata": {},
   "source": [
    "# Exercise 3\n",
    "\n",
    "Please review the below link and provide a one paragraph (5 sentences) summary of the content (how should you structure a project? give an example etc.)\n",
    "\n",
    "Packaging Python Project\n",
    "https://packaging.python.org/tutorials/packaging-projects/ \n",
    "\n"
   ]
  },
  {
   "cell_type": "markdown",
   "metadata": {},
   "source": [
    "We organize our project in a package. A package consists of .gitignore, src file, test file, LICENCE, README.md, setup.cfg, pyproject.toml and other files. The .gitignore tells git which file or path it should ignore. Inside the src file, we create our project file which consists of the --init--.py file and our modules (our codes). The --init--.py tells python that this dirctory is the package file and allows to package modules as whole. This is how we package our project."
   ]
  },
  {
   "cell_type": "markdown",
   "metadata": {},
   "source": [
    "# Exercise 4\n",
    "\n",
    "Please review the below link and provide a one paragraph (5 sentences) summary of the content (what is a style document? what are important things it highlights? etc)\n",
    "\n",
    "PPEP 8 - https://www.python.org/dev/peps/pep-0008/#introduction "
   ]
  },
  {
   "cell_type": "markdown",
   "metadata": {},
   "source": [
    "Readability of your code is very important, as much as writing your code efficiently. As described in the style documentation, a style guide is about consistency. Consistency is important when making your project, and even most important when making your modules and functions. The style document shows the correct and wrong way of doing indentation, naming package, module, class, and function, spacing, the correct way of importing and so on. The styling documentation also talks about when to make class methods and instances public and non-public. By convention it is better to set methods and instances non-public than making them public because it is better to change from non-public to public than the vice versa. Finally, the documentation gives programming recommendation how to use None in the if statement, using the lambda expression with def, and how to catch exceptions in a correct way.  "
   ]
  }
 ],
 "metadata": {
  "interpreter": {
   "hash": "31f2aee4e71d21fbe5cf8b01ff0e069b9275f58929596ceb00d14d90e3e16cd6"
  },
  "kernelspec": {
   "display_name": "Python 3.8.9 64-bit",
   "name": "python3"
  },
  "language_info": {
   "codemirror_mode": {
    "name": "ipython",
    "version": 3
   },
   "file_extension": ".py",
   "mimetype": "text/x-python",
   "name": "python",
   "nbconvert_exporter": "python",
   "pygments_lexer": "ipython3",
   "version": "3.8.9"
  }
 },
 "nbformat": 4,
 "nbformat_minor": 4
}
