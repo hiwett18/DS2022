{
 "cells": [
  {
   "cell_type": "markdown",
   "metadata": {},
   "source": [
    "<div style=\"background: #000;\n",
    "            color: #FFF;\n",
    "            margin: 0px;\n",
    "                padding: 10px 0px 20px 0px;\n",
    "            text-align: center; \n",
    "                \">\n",
    "    <h1>Week 7 - Class 3 - Lab</h1>\n",
    "</div>\n"
   ]
  },
  {
   "cell_type": "markdown",
   "metadata": {},
   "source": [
    "# Question 1\n",
    "\n",
    "Where should you go to understand how the project is intended to be used? Copy and paste the content of that file below:"
   ]
  },
  {
   "cell_type": "markdown",
   "metadata": {},
   "source": [
    "We go to README.md\n",
    "\n",
    "Hello all!\n",
    "\n",
    "This is a project that was made with the purpose of teaching you how to import custom modules.\n",
    "\n",
    "The notebook that will be due as submission is week-07-class-03-lab.ipynb. It has a bunch of errors because of the import statements! Can you fix these so that the notebook will run?\n",
    "\n",
    "The structure of this project is as such:\n",
    "\n",
    "There are four main files that hold different math operations: add_two_numbers.py, subtract_two_numbers.py, divide_two_numbers.py, and multiply_two_numbers.py. Within each file, there are functions created to operate on two different numbers passed in. We want to import these functions from our files to our main working script (week-07-class-03-lab.ipynb) in order to utilize them in our code.\n",
    "\n",
    "The python notebook obviously has errors in it. The bulk of the code will work fine as-is, as long as the import statements are corrected.\n",
    "\n",
    "Hint: make sure you keep an eye on the project structure, names of functions, and names of files. Not all files are in the same part of the directory tree!"
   ]
  },
  {
   "cell_type": "markdown",
   "metadata": {},
   "source": [
    "# Exercise 1\n",
    "\n",
    "Fix the following code so that the two numbers are added together using the add_two_numbers.py file:"
   ]
  },
  {
   "cell_type": "code",
   "execution_count": 7,
   "metadata": {},
   "outputs": [
    {
     "name": "stdout",
     "output_type": "stream",
     "text": [
      "1.0 + 4.0 = 5.0\n"
     ]
    }
   ],
   "source": [
    " from scripts.add_two_numbers import summing\n",
    "\n",
    "a = float(input(\"Enter a number: \", ))\n",
    "b = float(input(\"Enter another number: \", ))\n",
    "\n",
    "the_sum_of_two_numbers = summing(a,b)\n",
    "\n",
    "print(f'{a} + {b} = {the_sum_of_two_numbers}')\n",
    "\n",
    "\n"
   ]
  },
  {
   "cell_type": "markdown",
   "metadata": {},
   "source": [
    "# Exercise 2\n",
    "\n",
    "Fix the following code so that the two numbers are multiplied together using the multiply_two_numbers.py file:"
   ]
  },
  {
   "cell_type": "code",
   "execution_count": 14,
   "metadata": {},
   "outputs": [
    {
     "name": "stdout",
     "output_type": "stream",
     "text": [
      "3 + 4 = 12\n"
     ]
    }
   ],
   "source": [
    "from scripts.one_more_folder.multiply_two_numbers import multiplying as axb\n",
    "\n",
    "a = int(input(\"Enter a number: \", ))\n",
    "b = int(input(\"Enter another number: \", ))\n",
    "\n",
    "the_multiplication_of_two_numbers = axb(a,b)\n",
    "\n",
    "print(f'{a} + {b} = {the_multiplication_of_two_numbers}')"
   ]
  },
  {
   "cell_type": "markdown",
   "metadata": {},
   "source": [
    "# Exercise 3\n",
    "\n",
    "Fix the following code so that it utilizes all four operation files:"
   ]
  },
  {
   "cell_type": "code",
   "execution_count": 16,
   "metadata": {},
   "outputs": [
    {
     "name": "stdout",
     "output_type": "stream",
     "text": [
      "This is a:  2\n",
      "This is b:  8\n",
      "Result of addition:  10\n",
      "Result of subtraction:  -6\n",
      "Result of multiplication:  16\n",
      "Result of division:  0.25\n"
     ]
    }
   ],
   "source": [
    "from scripts.add_two_numbers import summing\n",
    "from scripts.subtract_two_numbers import subtracting\n",
    "from scripts.one_more_folder.multiply_two_numbers import multiplying\n",
    "from divide_two_numbers import dividing\n",
    "\n",
    "class Math_Operations:\n",
    "  def __init__(self, a, b):\n",
    "    self.a = a\n",
    "    self.b = b\n",
    "\n",
    "  def add_something(self):\n",
    "      c = summing(self.a,self.b)\n",
    "      return c\n",
    "\n",
    "  def subtract_something(self):\n",
    "      d = subtracting(self.a,self.b)\n",
    "      return d\n",
    "\n",
    "  def multiply_something(self):\n",
    "      e = multiplying(self.a,self.b)\n",
    "      return e\n",
    "\n",
    "  def divide_something(self):\n",
    "      f = dividing(self.a,self.b)\n",
    "      return f\n",
    "\n",
    "a = int(input(\"Enter a number: \", ))\n",
    "b = int(input(\"Enter another number: \", ))\n",
    "\n",
    "operations = Math_Operations(a,b)\n",
    "\n",
    "print(\"This is a: \", a)\n",
    "print(\"This is b: \", b)\n",
    "print(\"Result of addition: \", operations.add_something())\n",
    "print(\"Result of subtraction: \", operations.subtract_something())\n",
    "print(\"Result of multiplication: \", operations.multiply_something())\n",
    "print(\"Result of division: \", operations.divide_something())\n",
    "\n"
   ]
  }
 ],
 "metadata": {
  "interpreter": {
   "hash": "31f2aee4e71d21fbe5cf8b01ff0e069b9275f58929596ceb00d14d90e3e16cd6"
  },
  "kernelspec": {
   "display_name": "Python 3.8.9 64-bit",
   "name": "python3"
  },
  "language_info": {
   "codemirror_mode": {
    "name": "ipython",
    "version": 3
   },
   "file_extension": ".py",
   "mimetype": "text/x-python",
   "name": "python",
   "nbconvert_exporter": "python",
   "pygments_lexer": "ipython3",
   "version": "3.8.9"
  },
  "orig_nbformat": 4
 },
 "nbformat": 4,
 "nbformat_minor": 2
}
